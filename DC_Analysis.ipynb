{
 "cells": [
  {
   "cell_type": "markdown",
   "id": "a2a84d54",
   "metadata": {},
   "source": [
    "Here we analyse the possibility of replacing the pulsed laser by a CW one, while retaining the method presented by Jakob et al. and its SNR improvements.  "
   ]
  },
  {
   "cell_type": "markdown",
   "id": "5fb54064",
   "metadata": {},
   "source": [
    "## Original Data Processing, and Role of the Pulsed Laser "
   ]
  },
  {
   "cell_type": "markdown",
   "id": "7e85b254",
   "metadata": {},
   "source": [
    "Temporal Gating: Photon occurences are collapsed within one cycle of the pulsed laser (80 Mhz -> 12.5 ns). This results in a histogram with most photons arriving inside a 200ps window. Timestamps outside of this window are attributed to dark counts and noise. \n",
    "\n",
    "This temporal reconstruction is applicable to any periodic signal in an experiment. In their preliminary result, they apply it to the pulsed laser itself which results in fig. 5(c). \n",
    "\n",
    "They also apply the concept to the modulation signal (provided by an EOM here). The result is fig. 5(d), a reconstruction of the laser modulation cycle. \n",
    "\n",
    "Using a CW laser, we lose 5(c), but retain 5(d) through our modulation. \n",
    "\n",
    "They reduce the power of the laser to obtain fig. 6(a), then dark counts outside of the 200ps window in 5(c) are removed, resulting in 6(b), with the count rate outside the laser window reduced to close to 0 -> 400% increase in modulation visibility. \n",
    "\n",
    "It seems like we couldn't achieve this with a DC source, since no way to generate something like 5(c).\n",
    "\n",
    "Let's try to quantify the difference in improvement, DC vs. Pulsed, using Jakob's method. Hopefully it still beats traditional lock-in. "
   ]
  },
  {
   "cell_type": "markdown",
   "id": "67d6b569",
   "metadata": {},
   "source": [
    "We're able to discriminate between noise and signal using times of arrival: anything outside the window is to be discarded. \n",
    "Is there another characteristic we could use to perform this discrimination? Frequency? "
   ]
  },
  {
   "cell_type": "markdown",
   "id": "3cc089be",
   "metadata": {},
   "source": [
    "#### Simulation 1: Pulsed Laser + Modulation (Stokes Scattering)"
   ]
  },
  {
   "cell_type": "code",
   "execution_count": 2,
   "id": "8ec8161b",
   "metadata": {},
   "outputs": [],
   "source": [
    "import numpy as np\n",
    "import matplotlib.pyplot as plt\n",
    "from scipy import stats\n",
    "import seaborn as sns"
   ]
  },
  {
   "cell_type": "code",
   "execution_count": 14,
   "id": "214f9831",
   "metadata": {},
   "outputs": [],
   "source": [
    "# synthetic data\n",
    "# 3 lists of timestamps are collected: laser pulses, modulation pulses, photon detections \n",
    "\n",
    "# laser pulses: avg 79.64 MHz, std dev 25 kHz  \n",
    "f_rep = 1.00001e3 # s-1\n",
    "std_f_rep = 0.78e-3 # s-1\n",
    "\n",
    "T_rep = 1 / f_rep # s\n",
    "std_T_rep = 1 / std_f_rep # s\n",
    "\n",
    "count_rate = 10e2 # cts/s\n",
    "integration_time = 100 # s"
   ]
  },
  {
   "cell_type": "code",
   "execution_count": null,
   "id": "fca8127e",
   "metadata": {},
   "outputs": [
    {
     "data": {
      "text/plain": [
       "Text(0.5, 0, 'Frequency')"
      ]
     },
     "execution_count": 24,
     "metadata": {},
     "output_type": "execute_result"
    },
    {
     "data": {
      "image/png": "[encoded data removed]",
      "text/plain": [
       "<Figure size 640x480 with 1 Axes>"
      ]
     },
     "metadata": {},
     "output_type": "display_data"
    }
   ],
   "source": [
    "# histogram of the clock frequency for the laser pulses\n",
    "frequencies = np.random.normal(f_rep, std_f_rep, size=int(count_rate * integration_time))\n",
    "\n",
    "\n",
    "sns.histplot(frequencies)\n",
    "plt.ylabel(\"Occurences (cts)\")\n",
    "plt.xlabel(\"Frequency\")"
   ]
  },
  {
   "cell_type": "code",
   "execution_count": 19,
   "id": "5a7ed64f",
   "metadata": {},
   "outputs": [
    {
     "name": "stdout",
     "output_type": "stream",
     "text": [
      "Integration Time: 100s. Counted Photons: 100000\n"
     ]
    }
   ],
   "source": [
    "print(f\"Integration Time: {integration_time}s. Counted Photons: {len(frequencies)}\")"
   ]
  },
  {
   "cell_type": "code",
   "execution_count": null,
   "id": "cfcb5961",
   "metadata": {},
   "outputs": [],
   "source": [
    "# create photon arrival timestamps\n",
    "# [0, 100], 100k in total, ps precision "
   ]
  }
 ],
 "metadata": {
  "kernelspec": {
   "display_name": ".venv",
   "language": "python",
   "name": "python3"
  },
  "language_info": {
   "codemirror_mode": {
    "name": "ipython",
    "version": 3
   },
   "file_extension": ".py",
   "mimetype": "text/x-python",
   "name": "python",
   "nbconvert_exporter": "python",
   "pygments_lexer": "ipython3",
   "version": "3.13.2"
  }
 },
 "nbformat": 4,
 "nbformat_minor": 5
}
